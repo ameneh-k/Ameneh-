{
 "cells": [
  {
   "cell_type": "code",
   "execution_count": null,
   "metadata": {},
   "outputs": [],
   "source": [
    "#QUESTION:1.use 1+ other types of classifier/regressors in scikit-learn for answering your question\n",
    "\n",
    "#here I aim to use logistic regression.it returns a probability for a sample data"
   ]
  },
  {
   "cell_type": "code",
   "execution_count": 76,
   "metadata": {},
   "outputs": [],
   "source": [
    "#I need to build a model to be used to predict sex of a new or unknown case. \n",
    "\n",
    "# Reading data & checking top few data rows\n",
    "\n",
    "import itertools\n",
    "import numpy as np\n",
    "import matplotlib.pyplot as plt\n",
    "from matplotlib.ticker import NullFormatter\n",
    "import pandas as pd\n",
    "import numpy as np\n",
    "import matplotlib.ticker as ticker\n",
    "from sklearn import preprocessing\n",
    "%matplotlib inline\n"
   ]
  },
  {
   "cell_type": "code",
   "execution_count": 77,
   "metadata": {},
   "outputs": [],
   "source": [
    "import os\n",
    "os.getcwd()\n",
    "os.chdir('/Users/ameneh/Downloads')"
   ]
  },
  {
   "cell_type": "code",
   "execution_count": 78,
   "metadata": {},
   "outputs": [
    {
     "data": {
      "text/html": [
       "<div>\n",
       "<style scoped>\n",
       "    .dataframe tbody tr th:only-of-type {\n",
       "        vertical-align: middle;\n",
       "    }\n",
       "\n",
       "    .dataframe tbody tr th {\n",
       "        vertical-align: top;\n",
       "    }\n",
       "\n",
       "    .dataframe thead th {\n",
       "        text-align: right;\n",
       "    }\n",
       "</style>\n",
       "<table border=\"1\" class=\"dataframe\">\n",
       "  <thead>\n",
       "    <tr style=\"text-align: right;\">\n",
       "      <th></th>\n",
       "      <th>AGE</th>\n",
       "      <th>SEX</th>\n",
       "      <th>BMI</th>\n",
       "      <th>BP</th>\n",
       "      <th>S1</th>\n",
       "      <th>S2</th>\n",
       "      <th>S3</th>\n",
       "      <th>S4</th>\n",
       "      <th>S5</th>\n",
       "      <th>S6</th>\n",
       "      <th>Y</th>\n",
       "    </tr>\n",
       "  </thead>\n",
       "  <tbody>\n",
       "    <tr>\n",
       "      <th>432</th>\n",
       "      <td>51</td>\n",
       "      <td>1</td>\n",
       "      <td>31.5</td>\n",
       "      <td>93.00</td>\n",
       "      <td>231</td>\n",
       "      <td>144.0</td>\n",
       "      <td>49.0</td>\n",
       "      <td>4.70</td>\n",
       "      <td>5.2523</td>\n",
       "      <td>117</td>\n",
       "      <td>173</td>\n",
       "    </tr>\n",
       "    <tr>\n",
       "      <th>433</th>\n",
       "      <td>41</td>\n",
       "      <td>1</td>\n",
       "      <td>20.8</td>\n",
       "      <td>86.00</td>\n",
       "      <td>223</td>\n",
       "      <td>128.2</td>\n",
       "      <td>83.0</td>\n",
       "      <td>3.00</td>\n",
       "      <td>4.0775</td>\n",
       "      <td>89</td>\n",
       "      <td>72</td>\n",
       "    </tr>\n",
       "    <tr>\n",
       "      <th>434</th>\n",
       "      <td>53</td>\n",
       "      <td>1</td>\n",
       "      <td>26.5</td>\n",
       "      <td>97.00</td>\n",
       "      <td>193</td>\n",
       "      <td>122.4</td>\n",
       "      <td>58.0</td>\n",
       "      <td>3.00</td>\n",
       "      <td>4.1431</td>\n",
       "      <td>99</td>\n",
       "      <td>49</td>\n",
       "    </tr>\n",
       "    <tr>\n",
       "      <th>435</th>\n",
       "      <td>45</td>\n",
       "      <td>1</td>\n",
       "      <td>24.2</td>\n",
       "      <td>83.00</td>\n",
       "      <td>177</td>\n",
       "      <td>118.4</td>\n",
       "      <td>45.0</td>\n",
       "      <td>4.00</td>\n",
       "      <td>4.2195</td>\n",
       "      <td>82</td>\n",
       "      <td>64</td>\n",
       "    </tr>\n",
       "    <tr>\n",
       "      <th>436</th>\n",
       "      <td>33</td>\n",
       "      <td>1</td>\n",
       "      <td>19.5</td>\n",
       "      <td>80.00</td>\n",
       "      <td>171</td>\n",
       "      <td>85.4</td>\n",
       "      <td>75.0</td>\n",
       "      <td>2.00</td>\n",
       "      <td>3.9703</td>\n",
       "      <td>80</td>\n",
       "      <td>48</td>\n",
       "    </tr>\n",
       "    <tr>\n",
       "      <th>437</th>\n",
       "      <td>60</td>\n",
       "      <td>2</td>\n",
       "      <td>28.2</td>\n",
       "      <td>112.00</td>\n",
       "      <td>185</td>\n",
       "      <td>113.8</td>\n",
       "      <td>42.0</td>\n",
       "      <td>4.00</td>\n",
       "      <td>4.9836</td>\n",
       "      <td>93</td>\n",
       "      <td>178</td>\n",
       "    </tr>\n",
       "    <tr>\n",
       "      <th>438</th>\n",
       "      <td>47</td>\n",
       "      <td>2</td>\n",
       "      <td>24.9</td>\n",
       "      <td>75.00</td>\n",
       "      <td>225</td>\n",
       "      <td>166.0</td>\n",
       "      <td>42.0</td>\n",
       "      <td>5.00</td>\n",
       "      <td>4.4427</td>\n",
       "      <td>102</td>\n",
       "      <td>104</td>\n",
       "    </tr>\n",
       "    <tr>\n",
       "      <th>439</th>\n",
       "      <td>60</td>\n",
       "      <td>2</td>\n",
       "      <td>24.9</td>\n",
       "      <td>99.67</td>\n",
       "      <td>162</td>\n",
       "      <td>106.6</td>\n",
       "      <td>43.0</td>\n",
       "      <td>3.77</td>\n",
       "      <td>4.1271</td>\n",
       "      <td>95</td>\n",
       "      <td>132</td>\n",
       "    </tr>\n",
       "    <tr>\n",
       "      <th>440</th>\n",
       "      <td>36</td>\n",
       "      <td>1</td>\n",
       "      <td>30.0</td>\n",
       "      <td>95.00</td>\n",
       "      <td>201</td>\n",
       "      <td>125.2</td>\n",
       "      <td>42.0</td>\n",
       "      <td>4.79</td>\n",
       "      <td>5.1299</td>\n",
       "      <td>85</td>\n",
       "      <td>220</td>\n",
       "    </tr>\n",
       "    <tr>\n",
       "      <th>441</th>\n",
       "      <td>36</td>\n",
       "      <td>1</td>\n",
       "      <td>19.6</td>\n",
       "      <td>71.00</td>\n",
       "      <td>250</td>\n",
       "      <td>133.2</td>\n",
       "      <td>97.0</td>\n",
       "      <td>3.00</td>\n",
       "      <td>4.5951</td>\n",
       "      <td>92</td>\n",
       "      <td>57</td>\n",
       "    </tr>\n",
       "  </tbody>\n",
       "</table>\n",
       "</div>"
      ],
      "text/plain": [
       "     AGE  SEX   BMI      BP   S1     S2    S3    S4      S5   S6    Y\n",
       "432   51    1  31.5   93.00  231  144.0  49.0  4.70  5.2523  117  173\n",
       "433   41    1  20.8   86.00  223  128.2  83.0  3.00  4.0775   89   72\n",
       "434   53    1  26.5   97.00  193  122.4  58.0  3.00  4.1431   99   49\n",
       "435   45    1  24.2   83.00  177  118.4  45.0  4.00  4.2195   82   64\n",
       "436   33    1  19.5   80.00  171   85.4  75.0  2.00  3.9703   80   48\n",
       "437   60    2  28.2  112.00  185  113.8  42.0  4.00  4.9836   93  178\n",
       "438   47    2  24.9   75.00  225  166.0  42.0  5.00  4.4427  102  104\n",
       "439   60    2  24.9   99.67  162  106.6  43.0  3.77  4.1271   95  132\n",
       "440   36    1  30.0   95.00  201  125.2  42.0  4.79  5.1299   85  220\n",
       "441   36    1  19.6   71.00  250  133.2  97.0  3.00  4.5951   92   57"
      ]
     },
     "execution_count": 78,
     "metadata": {},
     "output_type": "execute_result"
    }
   ],
   "source": [
    "#read the file\n",
    "df = pd.read_csv('/Users/ameneh/Downloads/diabetes.data',\n",
    "                 sep='\\s+',\n",
    "                 header=0)\n",
    "\n",
    "\n",
    "df.tail(10)\n",
    "#df.info()"
   ]
  },
  {
   "cell_type": "code",
   "execution_count": 79,
   "metadata": {},
   "outputs": [
    {
     "data": {
      "text/plain": [
       "Index(['AGE', 'SEX', 'BMI', 'BP', 'S1', 'S2', 'S3', 'S4', 'S5', 'S6', 'Y'], dtype='object')"
      ]
     },
     "execution_count": 79,
     "metadata": {},
     "output_type": "execute_result"
    }
   ],
   "source": [
    "df.columns"
   ]
  },
  {
   "cell_type": "code",
   "execution_count": 82,
   "metadata": {},
   "outputs": [],
   "source": [
    "#our dta type is object. let's make a float array \n",
    "X = np.array(df.drop(['SEX'], 1).astype(float))\n",
    "y = np.array(df['SEX'])"
   ]
  },
  {
   "cell_type": "code",
   "execution_count": 83,
   "metadata": {},
   "outputs": [
    {
     "name": "stdout",
     "output_type": "stream",
     "text": [
      "Train set: (353, 10) (353,)\n",
      "Test set: (89, 10) (89,)\n"
     ]
    }
   ],
   "source": [
    "from sklearn.model_selection import train_test_split\n",
    "x_train, x_test, y_train, y_test = train_test_split(X, y, test_size=0.2, random_state=4)\n",
    "print ('Train set:', x_train.shape,  y_train.shape)\n",
    "print ('Test set:', x_test.shape,  y_test.shape)\n"
   ]
  },
  {
   "cell_type": "code",
   "execution_count": 85,
   "metadata": {},
   "outputs": [],
   "source": [
    "\n",
    "#importing libraries\n",
    "from sklearn import neighbors\n",
    "from sklearn.model_selection import GridSearchCV\n",
    "#normalize data\n",
    "from sklearn.preprocessing import MinMaxScaler\n",
    "scaler = MinMaxScaler(feature_range=(0, 1))"
   ]
  },
  {
   "cell_type": "code",
   "execution_count": 87,
   "metadata": {},
   "outputs": [
    {
     "data": {
      "text/plain": [
       "LogisticRegression(C=0.01, class_weight=None, dual=False, fit_intercept=True,\n",
       "                   intercept_scaling=1, l1_ratio=None, max_iter=100,\n",
       "                   multi_class='warn', n_jobs=None, penalty='l2',\n",
       "                   random_state=None, solver='liblinear', tol=0.0001, verbose=0,\n",
       "                   warm_start=False)"
      ]
     },
     "execution_count": 87,
     "metadata": {},
     "output_type": "execute_result"
    }
   ],
   "source": [
    "from sklearn.linear_model import LogisticRegression\n",
    "from sklearn.metrics import confusion_matrix\n",
    "LR = LogisticRegression(C=0.01, solver='liblinear').fit(x_train,y_train)\n",
    "LR"
   ]
  },
  {
   "cell_type": "code",
   "execution_count": 88,
   "metadata": {},
   "outputs": [
    {
     "data": {
      "text/plain": [
       "LogisticRegression(C=0.01, class_weight=None, dual=False, fit_intercept=True,\n",
       "                   intercept_scaling=1, l1_ratio=None, max_iter=100,\n",
       "                   multi_class='warn', n_jobs=None, penalty='l2',\n",
       "                   random_state=None, solver='liblinear', tol=0.0001, verbose=0,\n",
       "                   warm_start=False)"
      ]
     },
     "execution_count": 88,
     "metadata": {},
     "output_type": "execute_result"
    }
   ],
   "source": [
    "from sklearn.linear_model import LogisticRegression\n",
    "from sklearn.metrics import confusion_matrix\n",
    "LR = LogisticRegression(C=0.01, solver='liblinear').fit(x_train,y_train)\n",
    "LR"
   ]
  },
  {
   "cell_type": "code",
   "execution_count": 89,
   "metadata": {},
   "outputs": [
    {
     "data": {
      "text/plain": [
       "array([1, 2, 2, 1, 2, 1, 1, 1, 1, 1, 1, 2, 1, 2, 1, 1, 2, 2, 1, 2, 1, 2,\n",
       "       1, 2, 1, 1, 1, 2, 1, 1, 1, 1, 1, 2, 1, 2, 2, 2, 2, 1, 2, 1, 2, 1,\n",
       "       1, 1, 2, 2, 1, 1, 2, 1, 1, 1, 1, 2, 1, 1, 1, 1, 2, 1, 1, 1, 1, 2,\n",
       "       2, 2, 2, 2, 1, 1, 1, 1, 1, 1, 1, 2, 1, 1, 1, 1, 2, 1, 1, 2, 2, 1,\n",
       "       2])"
      ]
     },
     "execution_count": 89,
     "metadata": {},
     "output_type": "execute_result"
    }
   ],
   "source": [
    "yhat = LR.predict(x_test)\n",
    "yhat"
   ]
  },
  {
   "cell_type": "code",
   "execution_count": 91,
   "metadata": {},
   "outputs": [
    {
     "data": {
      "text/plain": [
       "array([[0.92658897, 0.07341103],\n",
       "       [0.1444923 , 0.8555077 ],\n",
       "       [0.47450454, 0.52549546],\n",
       "       [0.87412794, 0.12587206],\n",
       "       [0.44975376, 0.55024624],\n",
       "       [0.97300856, 0.02699144],\n",
       "       [0.55554927, 0.44445073],\n",
       "       [0.57078636, 0.42921364],\n",
       "       [0.89567841, 0.10432159],\n",
       "       [0.78279753, 0.21720247],\n",
       "       [0.90946991, 0.09053009],\n",
       "       [0.33873008, 0.66126992],\n",
       "       [0.64299599, 0.35700401],\n",
       "       [0.42334576, 0.57665424],\n",
       "       [0.54784525, 0.45215475],\n",
       "       [0.61034481, 0.38965519],\n",
       "       [0.08309896, 0.91690104],\n",
       "       [0.40329916, 0.59670084],\n",
       "       [0.88023537, 0.11976463],\n",
       "       [0.48345418, 0.51654582],\n",
       "       [0.67444649, 0.32555351],\n",
       "       [0.16698281, 0.83301719],\n",
       "       [0.98938381, 0.01061619],\n",
       "       [0.20164247, 0.79835753],\n",
       "       [0.54930693, 0.45069307],\n",
       "       [0.7015817 , 0.2984183 ],\n",
       "       [0.54607179, 0.45392821],\n",
       "       [0.20079115, 0.79920885],\n",
       "       [0.56804147, 0.43195853],\n",
       "       [0.63802623, 0.36197377],\n",
       "       [0.83724417, 0.16275583],\n",
       "       [0.76919268, 0.23080732],\n",
       "       [0.87664988, 0.12335012],\n",
       "       [0.41556443, 0.58443557],\n",
       "       [0.6717131 , 0.3282869 ],\n",
       "       [0.28750369, 0.71249631],\n",
       "       [0.10213925, 0.89786075],\n",
       "       [0.34918024, 0.65081976],\n",
       "       [0.21622731, 0.78377269],\n",
       "       [0.60364411, 0.39635589],\n",
       "       [0.31054209, 0.68945791],\n",
       "       [0.61535432, 0.38464568],\n",
       "       [0.49730779, 0.50269221],\n",
       "       [0.80361849, 0.19638151],\n",
       "       [0.59949506, 0.40050494],\n",
       "       [0.85551526, 0.14448474],\n",
       "       [0.14755191, 0.85244809],\n",
       "       [0.48497083, 0.51502917],\n",
       "       [0.75594708, 0.24405292],\n",
       "       [0.81731143, 0.18268857],\n",
       "       [0.38609602, 0.61390398],\n",
       "       [0.82505456, 0.17494544],\n",
       "       [0.50952474, 0.49047526],\n",
       "       [0.56811185, 0.43188815],\n",
       "       [0.88668163, 0.11331837],\n",
       "       [0.44237786, 0.55762214],\n",
       "       [0.83870704, 0.16129296],\n",
       "       [0.51901564, 0.48098436],\n",
       "       [0.55180119, 0.44819881],\n",
       "       [0.72262349, 0.27737651],\n",
       "       [0.49690665, 0.50309335],\n",
       "       [0.65167173, 0.34832827],\n",
       "       [0.73053416, 0.26946584],\n",
       "       [0.58824655, 0.41175345],\n",
       "       [0.91691199, 0.08308801],\n",
       "       [0.20048165, 0.79951835],\n",
       "       [0.3502502 , 0.6497498 ],\n",
       "       [0.24601365, 0.75398635],\n",
       "       [0.19656993, 0.80343007],\n",
       "       [0.49118056, 0.50881944],\n",
       "       [0.71681095, 0.28318905],\n",
       "       [0.77445988, 0.22554012],\n",
       "       [0.62043895, 0.37956105],\n",
       "       [0.5888822 , 0.4111178 ],\n",
       "       [0.52212168, 0.47787832],\n",
       "       [0.51992496, 0.48007504],\n",
       "       [0.5140619 , 0.4859381 ],\n",
       "       [0.30118603, 0.69881397],\n",
       "       [0.54718007, 0.45281993],\n",
       "       [0.63922386, 0.36077614],\n",
       "       [0.60423074, 0.39576926],\n",
       "       [0.6565561 , 0.3434439 ],\n",
       "       [0.2488298 , 0.7511702 ],\n",
       "       [0.88522821, 0.11477179],\n",
       "       [0.80806563, 0.19193437],\n",
       "       [0.26958434, 0.73041566],\n",
       "       [0.2439349 , 0.7560651 ],\n",
       "       [0.87845606, 0.12154394],\n",
       "       [0.39148108, 0.60851892]])"
      ]
     },
     "execution_count": 91,
     "metadata": {},
     "output_type": "execute_result"
    }
   ],
   "source": [
    "yhat_prob = LR.predict_proba(x_test)\n",
    "yhat_prob"
   ]
  },
  {
   "cell_type": "code",
   "execution_count": null,
   "metadata": {},
   "outputs": [],
   "source": []
  },
  {
   "cell_type": "code",
   "execution_count": null,
   "metadata": {},
   "outputs": [],
   "source": []
  },
  {
   "cell_type": "code",
   "execution_count": null,
   "metadata": {},
   "outputs": [],
   "source": []
  },
  {
   "cell_type": "code",
   "execution_count": null,
   "metadata": {},
   "outputs": [],
   "source": []
  }
 ],
 "metadata": {
  "kernelspec": {
   "display_name": "Python 3",
   "language": "python",
   "name": "python3"
  },
  "language_info": {
   "codemirror_mode": {
    "name": "ipython",
    "version": 3
   },
   "file_extension": ".py",
   "mimetype": "text/x-python",
   "name": "python",
   "nbconvert_exporter": "python",
   "pygments_lexer": "ipython3",
   "version": "3.7.3"
  }
 },
 "nbformat": 4,
 "nbformat_minor": 2
}
